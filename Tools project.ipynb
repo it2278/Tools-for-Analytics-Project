{
 "cells": [
  {
   "cell_type": "code",
   "execution_count": null,
   "metadata": {},
   "outputs": [],
   "source": [
    "#Individual Analysis of Three Technology Companies' stock (Apple, Microsoft and IBM)  and a tech-industry ETF stock (FTEC)\n"
   ]
  },
  {
   "cell_type": "code",
   "execution_count": null,
   "metadata": {},
   "outputs": [],
   "source": [
    "#Apple's stock"
   ]
  },
  {
   "cell_type": "code",
   "execution_count": null,
   "metadata": {},
   "outputs": [],
   "source": [
    "#Microsofit's stock"
   ]
  },
  {
   "cell_type": "code",
   "execution_count": null,
   "metadata": {},
   "outputs": [],
   "source": [
    "#IBM's stock"
   ]
  },
  {
   "cell_type": "code",
   "execution_count": null,
   "metadata": {},
   "outputs": [],
   "source": [
    "#ETF stock"
   ]
  },
  {
   "cell_type": "code",
   "execution_count": null,
   "metadata": {},
   "outputs": [],
   "source": [
    "#Graphical Analysis"
   ]
  },
  {
   "cell_type": "code",
   "execution_count": null,
   "metadata": {},
   "outputs": [],
   "source": [
    "#Basic Risk Analysis"
   ]
  },
  {
   "cell_type": "code",
   "execution_count": 6,
   "metadata": {},
   "outputs": [],
   "source": [
    "import datetime\n",
    "import numpy as np\n",
    "import pandas as pd\n",
    "%matplotlib inline\n",
    "import pandas_datareader.data as web\n",
    "import fix_yahoo_finance as yf"
   ]
  },
  {
   "cell_type": "code",
   "execution_count": 8,
   "metadata": {},
   "outputs": [],
   "source": [
    "#Regression Analysis\n",
    "\n",
    "#First Regression Analysis - Individual Stock's Return on Industry's ETF Return (One time period percent change)\n",
    "import pandas_datareader.data as web\n",
    "import fix_yahoo_finance as yf\n",
    "start = datetime.datetime(2015,11,19)\n",
    "end = datetime.datetime(2018,11,19)\n",
    "df = web.DataReader(['AAPL', 'IBM','MSFT','FTEC'],'yahoo', start,end)\n",
    "df1 = df['Close']\n",
    "rets = df1.pct_change()"
   ]
  },
  {
   "cell_type": "code",
   "execution_count": 11,
   "metadata": {},
   "outputs": [
    {
     "data": {
      "text/html": [
       "<div>\n",
       "<style scoped>\n",
       "    .dataframe tbody tr th:only-of-type {\n",
       "        vertical-align: middle;\n",
       "    }\n",
       "\n",
       "    .dataframe tbody tr th {\n",
       "        vertical-align: top;\n",
       "    }\n",
       "\n",
       "    .dataframe thead tr th {\n",
       "        text-align: left;\n",
       "    }\n",
       "\n",
       "    .dataframe thead tr:last-of-type th {\n",
       "        text-align: right;\n",
       "    }\n",
       "</style>\n",
       "<table border=\"1\" class=\"dataframe\">\n",
       "  <thead>\n",
       "    <tr>\n",
       "      <th>Attributes</th>\n",
       "      <th colspan=\"4\" halign=\"left\">High</th>\n",
       "      <th colspan=\"4\" halign=\"left\">Low</th>\n",
       "      <th colspan=\"2\" halign=\"left\">Open</th>\n",
       "      <th>...</th>\n",
       "      <th colspan=\"2\" halign=\"left\">Close</th>\n",
       "      <th colspan=\"4\" halign=\"left\">Volume</th>\n",
       "      <th colspan=\"4\" halign=\"left\">Adj Close</th>\n",
       "    </tr>\n",
       "    <tr>\n",
       "      <th>Symbols</th>\n",
       "      <th>AAPL</th>\n",
       "      <th>FTEC</th>\n",
       "      <th>IBM</th>\n",
       "      <th>MSFT</th>\n",
       "      <th>AAPL</th>\n",
       "      <th>FTEC</th>\n",
       "      <th>IBM</th>\n",
       "      <th>MSFT</th>\n",
       "      <th>AAPL</th>\n",
       "      <th>FTEC</th>\n",
       "      <th>...</th>\n",
       "      <th>IBM</th>\n",
       "      <th>MSFT</th>\n",
       "      <th>AAPL</th>\n",
       "      <th>FTEC</th>\n",
       "      <th>IBM</th>\n",
       "      <th>MSFT</th>\n",
       "      <th>AAPL</th>\n",
       "      <th>FTEC</th>\n",
       "      <th>IBM</th>\n",
       "      <th>MSFT</th>\n",
       "    </tr>\n",
       "    <tr>\n",
       "      <th>Date</th>\n",
       "      <th></th>\n",
       "      <th></th>\n",
       "      <th></th>\n",
       "      <th></th>\n",
       "      <th></th>\n",
       "      <th></th>\n",
       "      <th></th>\n",
       "      <th></th>\n",
       "      <th></th>\n",
       "      <th></th>\n",
       "      <th></th>\n",
       "      <th></th>\n",
       "      <th></th>\n",
       "      <th></th>\n",
       "      <th></th>\n",
       "      <th></th>\n",
       "      <th></th>\n",
       "      <th></th>\n",
       "      <th></th>\n",
       "      <th></th>\n",
       "      <th></th>\n",
       "    </tr>\n",
       "  </thead>\n",
       "  <tbody>\n",
       "    <tr>\n",
       "      <th>2015-11-19</th>\n",
       "      <td>119.750000</td>\n",
       "      <td>33.880001</td>\n",
       "      <td>137.740005</td>\n",
       "      <td>54.660000</td>\n",
       "      <td>116.760002</td>\n",
       "      <td>33.570000</td>\n",
       "      <td>136.009995</td>\n",
       "      <td>53.779999</td>\n",
       "      <td>117.639999</td>\n",
       "      <td>33.570000</td>\n",
       "      <td>...</td>\n",
       "      <td>136.740005</td>\n",
       "      <td>53.939999</td>\n",
       "      <td>43295800.0</td>\n",
       "      <td>499700.0</td>\n",
       "      <td>4753600.0</td>\n",
       "      <td>28149200.0</td>\n",
       "      <td>112.664360</td>\n",
       "      <td>32.583897</td>\n",
       "      <td>120.162025</td>\n",
       "      <td>50.478920</td>\n",
       "    </tr>\n",
       "    <tr>\n",
       "      <th>2015-11-20</th>\n",
       "      <td>119.919998</td>\n",
       "      <td>33.990002</td>\n",
       "      <td>138.919998</td>\n",
       "      <td>54.299999</td>\n",
       "      <td>118.849998</td>\n",
       "      <td>33.849998</td>\n",
       "      <td>137.250000</td>\n",
       "      <td>53.270000</td>\n",
       "      <td>119.199997</td>\n",
       "      <td>33.889999</td>\n",
       "      <td>...</td>\n",
       "      <td>138.500000</td>\n",
       "      <td>54.189999</td>\n",
       "      <td>34287100.0</td>\n",
       "      <td>61700.0</td>\n",
       "      <td>5176400.0</td>\n",
       "      <td>37147600.0</td>\n",
       "      <td>113.157593</td>\n",
       "      <td>32.806210</td>\n",
       "      <td>121.708687</td>\n",
       "      <td>50.712875</td>\n",
       "    </tr>\n",
       "    <tr>\n",
       "      <th>2015-11-23</th>\n",
       "      <td>119.730003</td>\n",
       "      <td>34.000000</td>\n",
       "      <td>138.869995</td>\n",
       "      <td>54.459999</td>\n",
       "      <td>117.339996</td>\n",
       "      <td>33.680000</td>\n",
       "      <td>137.119995</td>\n",
       "      <td>53.750000</td>\n",
       "      <td>119.269997</td>\n",
       "      <td>34.000000</td>\n",
       "      <td>...</td>\n",
       "      <td>138.460007</td>\n",
       "      <td>54.189999</td>\n",
       "      <td>32482500.0</td>\n",
       "      <td>85100.0</td>\n",
       "      <td>5137900.0</td>\n",
       "      <td>28235900.0</td>\n",
       "      <td>111.687393</td>\n",
       "      <td>32.680550</td>\n",
       "      <td>121.673500</td>\n",
       "      <td>50.712875</td>\n",
       "    </tr>\n",
       "  </tbody>\n",
       "</table>\n",
       "<p>3 rows × 24 columns</p>\n",
       "</div>"
      ],
      "text/plain": [
       "Attributes        High                                           Low  \\\n",
       "Symbols           AAPL       FTEC         IBM       MSFT        AAPL   \n",
       "Date                                                                   \n",
       "2015-11-19  119.750000  33.880001  137.740005  54.660000  116.760002   \n",
       "2015-11-20  119.919998  33.990002  138.919998  54.299999  118.849998   \n",
       "2015-11-23  119.730003  34.000000  138.869995  54.459999  117.339996   \n",
       "\n",
       "Attributes                                          Open             \\\n",
       "Symbols          FTEC         IBM       MSFT        AAPL       FTEC   \n",
       "Date                                                                  \n",
       "2015-11-19  33.570000  136.009995  53.779999  117.639999  33.570000   \n",
       "2015-11-20  33.849998  137.250000  53.270000  119.199997  33.889999   \n",
       "2015-11-23  33.680000  137.119995  53.750000  119.269997  34.000000   \n",
       "\n",
       "Attributes    ...           Close                 Volume                       \\\n",
       "Symbols       ...             IBM       MSFT        AAPL      FTEC        IBM   \n",
       "Date          ...                                                               \n",
       "2015-11-19    ...      136.740005  53.939999  43295800.0  499700.0  4753600.0   \n",
       "2015-11-20    ...      138.500000  54.189999  34287100.0   61700.0  5176400.0   \n",
       "2015-11-23    ...      138.460007  54.189999  32482500.0   85100.0  5137900.0   \n",
       "\n",
       "Attributes               Adj Close                                    \n",
       "Symbols           MSFT        AAPL       FTEC         IBM       MSFT  \n",
       "Date                                                                  \n",
       "2015-11-19  28149200.0  112.664360  32.583897  120.162025  50.478920  \n",
       "2015-11-20  37147600.0  113.157593  32.806210  121.708687  50.712875  \n",
       "2015-11-23  28235900.0  111.687393  32.680550  121.673500  50.712875  \n",
       "\n",
       "[3 rows x 24 columns]"
      ]
     },
     "execution_count": 11,
     "metadata": {},
     "output_type": "execute_result"
    }
   ],
   "source": [
    "df.iloc[:3]"
   ]
  },
  {
   "cell_type": "code",
   "execution_count": 12,
   "metadata": {},
   "outputs": [
    {
     "name": "stdout",
     "output_type": "stream",
     "text": [
      "                            OLS Regression Results                            \n",
      "==============================================================================\n",
      "Dep. Variable:                   FTEC   R-squared:                       0.852\n",
      "Model:                            OLS   Adj. R-squared:                  0.851\n",
      "Method:                 Least Squares   F-statistic:                     1440.\n",
      "Date:                Fri, 30 Nov 2018   Prob (F-statistic):          4.26e-311\n",
      "Time:                        15:39:40   Log-Likelihood:                 3084.2\n",
      "No. Observations:                 756   AIC:                            -6160.\n",
      "Df Residuals:                     752   BIC:                            -6142.\n",
      "Df Model:                           3                                         \n",
      "Covariance Type:            nonrobust                                         \n",
      "==============================================================================\n",
      "                 coef    std err          t      P>|t|      [0.025      0.975]\n",
      "------------------------------------------------------------------------------\n",
      "const       2.132e-05      0.000      0.142      0.887      -0.000       0.000\n",
      "MSFT           0.4451      0.014     32.041      0.000       0.418       0.472\n",
      "IBM            0.1283      0.013      9.746      0.000       0.102       0.154\n",
      "AAPL           0.2859      0.013     22.768      0.000       0.261       0.311\n",
      "==============================================================================\n",
      "Omnibus:                       34.567   Durbin-Watson:                   1.875\n",
      "Prob(Omnibus):                  0.000   Jarque-Bera (JB):               87.669\n",
      "Skew:                          -0.182   Prob(JB):                     9.18e-20\n",
      "Kurtosis:                       4.628   Cond. No.                         112.\n",
      "==============================================================================\n",
      "\n",
      "Warnings:\n",
      "[1] Standard Errors assume that the covariance matrix of the errors is correctly specified.\n"
     ]
    }
   ],
   "source": [
    "#Regression Table1\n",
    "import numpy as np\n",
    "import statsmodels.api as sm\n",
    "X = rets[['MSFT','IBM','AAPL']]\n",
    "X = sm.add_constant(X)\n",
    "y = rets['FTEC']\n",
    "model = sm.OLS(y,X,missing='drop')\n",
    "result = model.fit()\n",
    "print(result.summary())\n"
   ]
  },
  {
   "cell_type": "code",
   "execution_count": 14,
   "metadata": {},
   "outputs": [
    {
     "data": {
      "text/plain": [
       "[<matplotlib.lines.Line2D at 0x1c1cdad080>]"
      ]
     },
     "execution_count": 14,
     "metadata": {},
     "output_type": "execute_result"
    },
    {
     "data": {
      "image/png": "[encoded data removed]",
      "text/plain": [
       "<Figure size 576x432 with 1 Axes>"
      ]
     },
     "metadata": {
      "needs_background": "light"
     },
     "output_type": "display_data"
    }
   ],
   "source": [
    "#Fitted Value Graph\n",
    "import matplotlib.pyplot as plt\n",
    "fig, ax = plt.subplots(figsize=(8,6))\n",
    "ax.plot(y)\n",
    "ax.plot(result.fittedvalues)   "
   ]
  },
  {
   "cell_type": "code",
   "execution_count": null,
   "metadata": {},
   "outputs": [],
   "source": [
    "#Second Regression Analysis - \n"
   ]
  }
 ],
 "metadata": {
  "kernelspec": {
   "display_name": "Python 3",
   "language": "python",
   "name": "python3"
  },
  "language_info": {
   "codemirror_mode": {
    "name": "ipython",
    "version": 3
   },
   "file_extension": ".py",
   "mimetype": "text/x-python",
   "name": "python",
   "nbconvert_exporter": "python",
   "pygments_lexer": "ipython3",
   "version": "3.7.0"
  }
 },
 "nbformat": 4,
 "nbformat_minor": 2
}

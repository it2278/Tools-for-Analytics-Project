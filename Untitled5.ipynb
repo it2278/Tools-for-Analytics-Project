{
 "cells": [
  {
   "cell_type": "code",
   "execution_count": 4,
   "metadata": {},
   "outputs": [
    {
     "name": "stdout",
     "output_type": "stream",
     "text": [
      "2000-01-01 00:00:00 2018-11-19 18:16:25.868495\n"
     ]
    }
   ],
   "source": [
    "from pandas_datareader import data as web\n",
    "import datetime\n",
    "start=datetime.datetime(2000, 1, 1)\n",
    "end=datetime.datetime.today()\n",
    "print(start,end)\n",
    "df = web.DataReader('AAPL', 'yahoo', start, end)"
   ]
  },
  {
   "cell_type": "code",
   "execution_count": null,
   "metadata": {},
   "outputs": [],
   "source": []
  }
 ],
 "metadata": {
  "kernelspec": {
   "display_name": "Python 3",
   "language": "python",
   "name": "python3"
  },
  "language_info": {
   "codemirror_mode": {
    "name": "ipython",
    "version": 3
   },
   "file_extension": ".py",
   "mimetype": "text/x-python",
   "name": "python",
   "nbconvert_exporter": "python",
   "pygments_lexer": "ipython3",
   "version": "3.6.5"
  }
 },
 "nbformat": 4,
 "nbformat_minor": 2
}
hello
